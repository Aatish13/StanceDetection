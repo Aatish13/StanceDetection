{
 "cells": [
  {
   "cell_type": "code",
   "execution_count": 14,
   "id": "697a3831",
   "metadata": {},
   "outputs": [],
   "source": [
    "import nltk\n",
    "import pandas as pd\n",
    "from nltk.corpus import stopwords\n",
    "from sklearn.feature_extraction.text import TfidfVectorizer\n",
    "\n",
    "from sklearn.linear_model import LogisticRegression\n",
    "from sklearn.svm import SVC\n",
    "from sklearn.ensemble import RandomForestClassifier\n",
    "# from xgboost import XGBRFClassifier\n",
    "\n",
    "from sklearn.model_selection import train_test_split, GridSearchCV\n",
    "from sklearn.metrics import accuracy_score\n",
    "\n",
    "# nltk.download(\"stopwords\")"
   ]
  },
  {
   "cell_type": "code",
   "execution_count": 2,
   "id": "6c2b12be",
   "metadata": {},
   "outputs": [],
   "source": [
    "df = pd.read_csv('../Dataset/Preprocessed_Data.csv')"
   ]
  },
  {
   "cell_type": "code",
   "execution_count": 3,
   "id": "0bfeb5f6",
   "metadata": {},
   "outputs": [],
   "source": [
    "X_train, X_test, y_train, y_test = train_test_split(df['Tweet'], df['stance'], test_size=0.2, random_state=42)"
   ]
  },
  {
   "cell_type": "code",
   "execution_count": 4,
   "id": "35989a9a",
   "metadata": {},
   "outputs": [],
   "source": [
    "# Convert tweets to vectors using TF-IDF\n",
    "stop_words = stopwords.words(\"english\")\n",
    "vectorizer = TfidfVectorizer(stop_words = stop_words, max_features = 2000)"
   ]
  },
  {
   "cell_type": "code",
   "execution_count": 5,
   "id": "30dbac6c",
   "metadata": {},
   "outputs": [],
   "source": [
    "X_train_vectorized = vectorizer.fit_transform(X_train)\n",
    "X_test_vectorized = vectorizer.transform(X_test)"
   ]
  },
  {
   "cell_type": "code",
   "execution_count": 6,
   "id": "128fc4c4",
   "metadata": {
    "scrolled": true
   },
   "outputs": [
    {
     "name": "stdout",
     "output_type": "stream",
     "text": [
      "(23239, 2000) (5810, 2000)\n"
     ]
    }
   ],
   "source": [
    "print(X_train_vectorized.shape, X_test_vectorized.shape)"
   ]
  },
  {
   "cell_type": "code",
   "execution_count": 7,
   "id": "c96420f2",
   "metadata": {},
   "outputs": [],
   "source": [
    "params = {'C' : [1, 10], \n",
    "          'kernel' : ['linear', 'poly', 'rbf'], \n",
    "          'gamma' : ['scale', 'auto'], \n",
    "          }\n",
    "\n",
    "\n",
    "grid_search = GridSearchCV(SVC(), param_grid = params, cv=3, n_jobs = -1, verbose = 3, refit = True)"
   ]
  },
  {
   "cell_type": "code",
   "execution_count": 8,
   "id": "51ab490d",
   "metadata": {},
   "outputs": [
    {
     "name": "stdout",
     "output_type": "stream",
     "text": [
      "Fitting 3 folds for each of 12 candidates, totalling 36 fits\n",
      "[CV 1/3] END ...C=1, gamma=scale, kernel=linear;, score=0.671 total time=  19.2s\n",
      "[CV 2/3] END ...C=1, gamma=scale, kernel=linear;, score=0.676 total time=  19.2s\n",
      "[CV 3/3] END ...C=1, gamma=scale, kernel=linear;, score=0.677 total time=  19.2s\n",
      "[CV 1/3] END .....C=1, gamma=scale, kernel=poly;, score=0.663 total time=  53.7s\n",
      "[CV 2/3] END .....C=1, gamma=scale, kernel=poly;, score=0.670 total time=  53.8s\n",
      "[CV 3/3] END .....C=1, gamma=scale, kernel=poly;, score=0.675 total time=  52.4s\n",
      "[CV 1/3] END ......C=1, gamma=scale, kernel=rbf;, score=0.688 total time=  26.4s\n",
      "[CV 2/3] END ......C=1, gamma=scale, kernel=rbf;, score=0.695 total time=  26.0s\n",
      "[CV 3/3] END ......C=1, gamma=scale, kernel=rbf;, score=0.693 total time=  26.1s\n",
      "[CV 1/3] END ....C=1, gamma=auto, kernel=linear;, score=0.671 total time=  19.4s\n",
      "[CV 2/3] END ....C=1, gamma=auto, kernel=linear;, score=0.676 total time=  19.4s\n",
      "[CV 3/3] END ....C=1, gamma=auto, kernel=linear;, score=0.677 total time=  19.8s\n",
      "[CV 1/3] END ......C=1, gamma=auto, kernel=poly;, score=0.335 total time=  28.8s\n",
      "[CV 2/3] END ......C=1, gamma=auto, kernel=poly;, score=0.335 total time=  29.0s\n",
      "[CV 3/3] END ......C=1, gamma=auto, kernel=poly;, score=0.335 total time=  29.1s\n",
      "[CV 1/3] END .......C=1, gamma=auto, kernel=rbf;, score=0.335 total time=  30.5s\n",
      "[CV 2/3] END .......C=1, gamma=auto, kernel=rbf;, score=0.335 total time=  30.6s\n",
      "[CV 3/3] END .......C=1, gamma=auto, kernel=rbf;, score=0.335 total time=  30.8s\n",
      "[CV 1/3] END ..C=10, gamma=scale, kernel=linear;, score=0.652 total time=  25.4s\n",
      "[CV 2/3] END ..C=10, gamma=scale, kernel=linear;, score=0.659 total time=  25.7s\n",
      "[CV 3/3] END ..C=10, gamma=scale, kernel=linear;, score=0.668 total time=  25.7s\n",
      "[CV 1/3] END ....C=10, gamma=scale, kernel=poly;, score=0.652 total time= 1.0min\n",
      "[CV 2/3] END ....C=10, gamma=scale, kernel=poly;, score=0.665 total time= 1.0min\n",
      "[CV 3/3] END ....C=10, gamma=scale, kernel=poly;, score=0.661 total time= 1.0min\n",
      "[CV 1/3] END .....C=10, gamma=scale, kernel=rbf;, score=0.683 total time=  57.5s\n",
      "[CV 2/3] END .....C=10, gamma=scale, kernel=rbf;, score=0.689 total time=  58.5s\n",
      "[CV 3/3] END .....C=10, gamma=scale, kernel=rbf;, score=0.692 total time=  59.9s\n",
      "[CV 1/3] END ...C=10, gamma=auto, kernel=linear;, score=0.652 total time=  25.9s\n",
      "[CV 2/3] END ...C=10, gamma=auto, kernel=linear;, score=0.659 total time=  25.5s\n",
      "[CV 3/3] END ...C=10, gamma=auto, kernel=linear;, score=0.668 total time=  26.0s\n",
      "[CV 1/3] END .....C=10, gamma=auto, kernel=poly;, score=0.335 total time=  29.1s\n",
      "[CV 2/3] END .....C=10, gamma=auto, kernel=poly;, score=0.335 total time=  28.9s\n",
      "[CV 3/3] END .....C=10, gamma=auto, kernel=poly;, score=0.335 total time=  29.2s\n",
      "[CV 1/3] END ......C=10, gamma=auto, kernel=rbf;, score=0.523 total time=  30.3s\n",
      "[CV 2/3] END ......C=10, gamma=auto, kernel=rbf;, score=0.527 total time=  30.3s\n",
      "[CV 3/3] END ......C=10, gamma=auto, kernel=rbf;, score=0.530 total time=  30.2s\n"
     ]
    },
    {
     "data": {
      "text/plain": [
       "GridSearchCV(cv=3, estimator=SVC(),\n",
       "             param_grid={'C': [1, 10], 'gamma': ['scale', 'auto'],\n",
       "                         'kernel': ['linear', 'poly', 'rbf']},\n",
       "             verbose=3)"
      ]
     },
     "execution_count": 8,
     "metadata": {},
     "output_type": "execute_result"
    }
   ],
   "source": [
    "grid_search.fit(X_train_vectorized, y_train)"
   ]
  },
  {
   "cell_type": "code",
   "execution_count": 9,
   "id": "cdbcfe2f",
   "metadata": {},
   "outputs": [
    {
     "name": "stdout",
     "output_type": "stream",
     "text": [
      "Best hyperparameters: {'C': 1, 'gamma': 'scale', 'kernel': 'rbf'}\n",
      "Accuracy: 0.7074010327022375\n"
     ]
    }
   ],
   "source": [
    "svm_cf = grid_search.best_estimator_\n",
    "y_pred = svm_cf.predict(X_test_vectorized)\n",
    "\n",
    "# Accuracy score\n",
    "print(\"Best hyperparameters:\", grid_search.best_params_)\n",
    "print(\"Accuracy:\", accuracy_score(y_test, y_pred))"
   ]
  },
  {
   "cell_type": "code",
   "execution_count": 11,
   "id": "d562ee64",
   "metadata": {},
   "outputs": [],
   "source": [
    "param_grid = {\n",
    "    'C': [1, 5, 10],\n",
    "    'penalty': ['l1', 'l2']\n",
    "}\n",
    "\n",
    "logistic_Clf = LogisticRegression(max_iter=1000000, solver='liblinear')\n",
    "grid_search_lrclf = GridSearchCV(logistic_Clf, param_grid, cv=5, n_jobs=-1, verbose = 3, refit = True)"
   ]
  },
  {
   "cell_type": "code",
   "execution_count": 12,
   "id": "1c02ba5e",
   "metadata": {},
   "outputs": [
    {
     "name": "stdout",
     "output_type": "stream",
     "text": [
      "Fitting 5 folds for each of 6 candidates, totalling 30 fits\n"
     ]
    },
    {
     "data": {
      "text/plain": [
       "GridSearchCV(cv=5,\n",
       "             estimator=LogisticRegression(max_iter=1000000, solver='liblinear'),\n",
       "             n_jobs=-1, param_grid={'C': [1, 5, 10], 'penalty': ['l1', 'l2']},\n",
       "             verbose=3)"
      ]
     },
     "execution_count": 12,
     "metadata": {},
     "output_type": "execute_result"
    }
   ],
   "source": [
    "grid_search_lrclf.fit(X_train_vectorized, y_train)"
   ]
  },
  {
   "cell_type": "code",
   "execution_count": 13,
   "id": "bb4302fd",
   "metadata": {},
   "outputs": [
    {
     "name": "stdout",
     "output_type": "stream",
     "text": [
      "Best hyperparameters: {'C': 1, 'penalty': 'l1'}\n",
      "Accuracy: 0.6920826161790017\n"
     ]
    }
   ],
   "source": [
    "lrcf = grid_search_lrclf.best_estimator_\n",
    "y_pred = lrcf.predict(X_test_vectorized)\n",
    "\n",
    "# Accuracy score\n",
    "print(\"Best hyperparameters:\", grid_search_lrclf.best_params_)\n",
    "print(\"Accuracy:\", accuracy_score(y_test, y_pred))"
   ]
  },
  {
   "cell_type": "code",
   "execution_count": 15,
   "id": "65996d83",
   "metadata": {},
   "outputs": [],
   "source": [
    "param_grid = {\n",
    "    'n_estimators': [300, 400],\n",
    "    'max_depth': [None, 20, 30, 40]\n",
    "}\n",
    "\n",
    "rf_clf = RandomForestClassifier(random_state=42)\n",
    "grid_search_rfclf = GridSearchCV(rf_clf, param_grid, cv=5, n_jobs = -1, verbose = 3, refit = True)"
   ]
  },
  {
   "cell_type": "code",
   "execution_count": 16,
   "id": "a3e5e364",
   "metadata": {},
   "outputs": [
    {
     "name": "stdout",
     "output_type": "stream",
     "text": [
      "Fitting 5 folds for each of 8 candidates, totalling 40 fits\n",
      "[CV 2/5] END ...................C=1, penalty=l2;, score=0.688 total time=   0.2s\n",
      "[CV 1/5] END ...................C=5, penalty=l1;, score=0.665 total time=   0.8s\n",
      "[CV 4/5] END ..................C=10, penalty=l1;, score=0.679 total time=   0.8s\n",
      "[CV 3/5] END ..max_depth=None, n_estimators=300;, score=0.640 total time=  53.2s\n"
     ]
    },
    {
     "name": "stderr",
     "output_type": "stream",
     "text": [
      "/Users/Mohak/opt/anaconda3/lib/python3.9/site-packages/joblib/externals/loky/process_executor.py:702: UserWarning: A worker stopped while some jobs were given to the executor. This can be caused by a too short worker timeout or by a memory leak.\n",
      "  warnings.warn(\n"
     ]
    },
    {
     "name": "stdout",
     "output_type": "stream",
     "text": [
      "[CV 5/5] END ...................C=1, penalty=l1;, score=0.695 total time=   0.4s\n",
      "[CV 5/5] END ...................C=5, penalty=l1;, score=0.695 total time=   0.8s\n",
      "[CV 3/5] END ..................C=10, penalty=l2;, score=0.678 total time=   0.3s\n",
      "[CV 1/5] END ..max_depth=None, n_estimators=300;, score=0.642 total time=  53.5s\n",
      "[CV 3/5] END ...................C=1, penalty=l2;, score=0.685 total time=   0.2s\n",
      "[CV 1/5] END ...................C=5, penalty=l2;, score=0.669 total time=   0.3s\n",
      "[CV 4/5] END ...................C=5, penalty=l2;, score=0.684 total time=   0.2s\n",
      "[CV 2/5] END ..................C=10, penalty=l1;, score=0.680 total time=   0.9s\n",
      "[CV 5/5] END ..max_depth=None, n_estimators=300;, score=0.657 total time=  53.6s\n",
      "[CV 4/5] END ...................C=1, penalty=l1;, score=0.687 total time=   0.4s\n",
      "[CV 5/5] END ...................C=1, penalty=l2;, score=0.694 total time=   0.2s\n",
      "[CV 3/5] END ...................C=5, penalty=l2;, score=0.682 total time=   0.3s\n",
      "[CV 1/5] END ..................C=10, penalty=l1;, score=0.661 total time=   1.0s\n",
      "[CV 2/5] END ..max_depth=None, n_estimators=300;, score=0.650 total time=  53.6s\n",
      "[CV 1/5] END ...................C=1, penalty=l2;, score=0.677 total time=   0.2s\n",
      "[CV 4/5] END ...................C=1, penalty=l2;, score=0.683 total time=   0.2s\n",
      "[CV 2/5] END ...................C=5, penalty=l2;, score=0.683 total time=   0.3s\n",
      "[CV 5/5] END ...................C=5, penalty=l2;, score=0.697 total time=   0.3s\n",
      "[CV 3/5] END ..................C=10, penalty=l1;, score=0.678 total time=   0.9s\n",
      "[CV 4/5] END ..max_depth=None, n_estimators=300;, score=0.641 total time=  54.0s\n",
      "[CV 3/5] END ...................C=1, penalty=l1;, score=0.688 total time=   0.4s\n",
      "[CV 4/5] END ...................C=5, penalty=l1;, score=0.682 total time=   0.8s\n",
      "[CV 2/5] END ..................C=10, penalty=l2;, score=0.682 total time=   0.3s\n",
      "[CV 5/5] END ..................C=10, penalty=l2;, score=0.694 total time=   0.3s\n",
      "[CV 3/5] END ..max_depth=None, n_estimators=400;, score=0.640 total time= 1.2min\n",
      "[CV 2/5] END ...................C=1, penalty=l1;, score=0.686 total time=   0.4s\n",
      "[CV 2/5] END ...................C=5, penalty=l1;, score=0.681 total time=   0.8s\n",
      "[CV 5/5] END ..................C=10, penalty=l1;, score=0.693 total time=   0.8s\n",
      "[CV 1/5] END ..max_depth=None, n_estimators=400;, score=0.645 total time= 1.2min\n",
      "[CV 1/5] END ...................C=1, penalty=l1;, score=0.671 total time=   0.4s\n",
      "[CV 3/5] END ...................C=5, penalty=l1;, score=0.679 total time=   0.8s\n",
      "[CV 1/5] END ..................C=10, penalty=l2;, score=0.667 total time=   0.3s\n",
      "[CV 4/5] END ..................C=10, penalty=l2;, score=0.682 total time=   0.3s\n",
      "[CV 2/5] END ..max_depth=None, n_estimators=400;, score=0.653 total time= 1.2min\n"
     ]
    },
    {
     "data": {
      "text/plain": [
       "GridSearchCV(cv=5, estimator=RandomForestClassifier(random_state=42), n_jobs=-1,\n",
       "             param_grid={'max_depth': [None, 20, 30, 40],\n",
       "                         'n_estimators': [300, 400]},\n",
       "             verbose=3)"
      ]
     },
     "execution_count": 16,
     "metadata": {},
     "output_type": "execute_result"
    }
   ],
   "source": [
    "grid_search_rfclf.fit(X_train_vectorized, y_train)"
   ]
  },
  {
   "cell_type": "code",
   "execution_count": 17,
   "id": "979ac8c9",
   "metadata": {},
   "outputs": [
    {
     "name": "stdout",
     "output_type": "stream",
     "text": [
      "Best hyperparameters: {'max_depth': None, 'n_estimators': 400}\n",
      "Accuracy: 0.6641996557659208\n",
      "[CV 2/5] END ....max_depth=30, n_estimators=300;, score=0.624 total time=  10.9s\n",
      "[CV 3/5] END ....max_depth=30, n_estimators=400;, score=0.619 total time=  14.6s\n",
      "[CV 5/5] END ....max_depth=40, n_estimators=300;, score=0.647 total time=  15.9s\n",
      "[CV 2/5] END ....max_depth=20, n_estimators=300;, score=0.612 total time=   5.7s\n",
      "[CV 5/5] END ....max_depth=20, n_estimators=300;, score=0.630 total time=   6.7s\n",
      "[CV 3/5] END ....max_depth=20, n_estimators=400;, score=0.616 total time=   8.2s\n",
      "[CV 3/5] END ....max_depth=30, n_estimators=300;, score=0.618 total time=  11.1s\n",
      "[CV 5/5] END ....max_depth=30, n_estimators=400;, score=0.638 total time=  14.5s\n",
      "[CV 1/5] END ....max_depth=40, n_estimators=400;, score=0.638 total time=  20.5s\n",
      "[CV 3/5] END ....max_depth=20, n_estimators=300;, score=0.613 total time=   5.8s\n",
      "[CV 1/5] END ....max_depth=20, n_estimators=400;, score=0.632 total time=   8.8s\n",
      "[CV 4/5] END ....max_depth=20, n_estimators=400;, score=0.614 total time=   8.2s\n",
      "[CV 5/5] END ....max_depth=30, n_estimators=300;, score=0.640 total time=  10.6s\n",
      "[CV 1/5] END ....max_depth=40, n_estimators=300;, score=0.635 total time=  16.2s\n",
      "[CV 2/5] END ....max_depth=40, n_estimators=400;, score=0.637 total time=  19.4s\n",
      "[CV 5/5] END ....max_depth=20, n_estimators=400;, score=0.631 total time=   8.5s\n",
      "[CV 1/5] END ....max_depth=30, n_estimators=400;, score=0.632 total time=  13.9s\n",
      "[CV 2/5] END ....max_depth=40, n_estimators=300;, score=0.633 total time=  15.7s\n",
      "[CV 3/5] END ....max_depth=40, n_estimators=400;, score=0.628 total time=  18.7s\n",
      "[CV 5/5] END ..max_depth=None, n_estimators=400;, score=0.656 total time= 1.3min\n",
      "[CV 1/5] END ....max_depth=30, n_estimators=300;, score=0.634 total time=  10.8s\n",
      "[CV 2/5] END ....max_depth=30, n_estimators=400;, score=0.625 total time=  14.0s\n",
      "[CV 3/5] END ....max_depth=40, n_estimators=300;, score=0.627 total time=  16.1s\n",
      "[CV 4/5] END ....max_depth=40, n_estimators=400;, score=0.630 total time=  17.5s\n",
      "[CV 4/5] END ..max_depth=None, n_estimators=400;, score=0.639 total time= 1.3min\n",
      "[CV 1/5] END ....max_depth=20, n_estimators=300;, score=0.631 total time=   5.7s\n",
      "[CV 4/5] END ....max_depth=20, n_estimators=300;, score=0.611 total time=   6.7s\n",
      "[CV 2/5] END ....max_depth=20, n_estimators=400;, score=0.615 total time=   8.2s\n",
      "[CV 4/5] END ....max_depth=30, n_estimators=300;, score=0.623 total time=  10.6s\n",
      "[CV 4/5] END ....max_depth=30, n_estimators=400;, score=0.625 total time=  14.1s\n",
      "[CV 4/5] END ....max_depth=40, n_estimators=300;, score=0.629 total time=  15.8s\n",
      "[CV 5/5] END ....max_depth=40, n_estimators=400;, score=0.648 total time=  17.1s\n"
     ]
    }
   ],
   "source": [
    "rfcf = grid_search_rfclf.best_estimator_\n",
    "y_pred = rfcf.predict(X_test_vectorized)\n",
    "\n",
    "# Accuracy score\n",
    "print(\"Best hyperparameters:\", grid_search_rfclf.best_params_)\n",
    "print(\"Accuracy:\", accuracy_score(y_test, y_pred))"
   ]
  },
  {
   "cell_type": "code",
   "execution_count": null,
   "id": "70567349",
   "metadata": {},
   "outputs": [],
   "source": [
    "import tensorflow as tf\n",
    "from tensorflow.keras import layers\n",
    "from tensorflow.keras import losses"
   ]
  },
  {
   "cell_type": "code",
   "execution_count": null,
   "id": "d9f8bbdf",
   "metadata": {},
   "outputs": [],
   "source": [
    "max_features = 10000\n",
    "sequence_length = 250\n",
    "\n",
    "vectorize_layer = layers.TextVectorization(\n",
    "    max_tokens=max_features,\n",
    "    output_mode='int',\n",
    "    output_sequence_length=sequence_length)\n",
    "\n",
    "vectorize_layer.adapt(X_train)"
   ]
  },
  {
   "cell_type": "code",
   "execution_count": null,
   "id": "c3d7b74d",
   "metadata": {},
   "outputs": [],
   "source": [
    "embedding_dim = 16\n",
    "\n",
    "model = tf.keras.Sequential([\n",
    "  layers.Embedding(max_features + 1, embedding_dim),\n",
    "  layers.Dropout(0.2),\n",
    "  layers.GlobalAveragePooling1D(),\n",
    "  layers.Dropout(0.2),\n",
    "  layers.Dense(3)])\n",
    "\n",
    "model.summary()"
   ]
  },
  {
   "cell_type": "code",
   "execution_count": null,
   "id": "80a8c3ed",
   "metadata": {},
   "outputs": [],
   "source": [
    "model.compile(optimizer='adam', loss='categorical_crossentropy', metrics=['accuracy'])"
   ]
  },
  {
   "cell_type": "code",
   "execution_count": null,
   "id": "5ec98827",
   "metadata": {},
   "outputs": [],
   "source": [
    "history = model.fit(\n",
    "    X_train,\n",
    "    y_train,\n",
    "    batch_size=32,\n",
    "    validation_split=0.1,\n",
    "    epochs=10)"
   ]
  },
  {
   "cell_type": "code",
   "execution_count": null,
   "id": "8c145b63",
   "metadata": {},
   "outputs": [],
   "source": [
    "loss, accuracy = model.evaluate(X_test, y_test)\n",
    "print(\"Loss:\", loss)\n",
    "print(\"Accuracy:\", accuracy)"
   ]
  },
  {
   "cell_type": "code",
   "execution_count": null,
   "id": "4e2c9c45",
   "metadata": {},
   "outputs": [],
   "source": [
    "# Tokenize the text data\n",
    "tokenizer = Tokenizer()\n",
    "tokenizer.fit_on_texts(X_train)\n",
    "X_train = tokenizer.texts_to_sequences(X_train)\n",
    "X_test = tokenizer.texts_to_sequences(X_test)\n",
    "\n",
    "# Pad the sequences to a fixed length\n",
    "max_len = 100\n",
    "X_train = pad_sequences(X_train, maxlen=max_len)\n",
    "X_test = pad_sequences(X_test, maxlen=max_len)\n",
    "\n",
    "# Define the LSTM model\n",
    "model = Sequential()\n",
    "model.add(Embedding(input_dim=len(tokenizer.word_index)+1, output_dim=128, input_length=max_len))\n",
    "model.add(LSTM(units=64, dropout=0.2, recurrent_dropout=0.2))\n",
    "model.add(Dense(units=3, activation='sigmoid'))\n",
    "\n",
    "# Compile the model\n",
    "model.compile(optimizer='adam', loss='categorical_crossentropy', metrics=['accuracy'])\n",
    "\n",
    "# Train the model\n",
    "model.fit(X_train, y_train, batch_size=32, epochs=10, validation_split=0.1)\n",
    "\n",
    "# Evaluate the model on testing data\n",
    "loss, accuracy = model.evaluate(X_test, y_test)\n",
    "print(\"Loss:\", loss)\n",
    "print(\"Accuracy:\", accuracy)\n"
   ]
  },
  {
   "cell_type": "code",
   "execution_count": null,
   "id": "f405a75c",
   "metadata": {},
   "outputs": [],
   "source": []
  }
 ],
 "metadata": {
  "kernelspec": {
   "display_name": "Python 3 (ipykernel)",
   "language": "python",
   "name": "python3"
  },
  "language_info": {
   "codemirror_mode": {
    "name": "ipython",
    "version": 3
   },
   "file_extension": ".py",
   "mimetype": "text/x-python",
   "name": "python",
   "nbconvert_exporter": "python",
   "pygments_lexer": "ipython3",
   "version": "3.9.7"
  }
 },
 "nbformat": 4,
 "nbformat_minor": 5
}
